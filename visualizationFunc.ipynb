{
 "cells": [
  {
   "cell_type": "code",
   "execution_count": 1,
   "metadata": {},
   "outputs": [],
   "source": [
    "import pandas as pd\n",
    "import matplotlib.pyplot as plt\n",
    "import datetime "
   ]
  },
  {
   "cell_type": "code",
   "execution_count": 10,
   "metadata": {},
   "outputs": [],
   "source": [
    "#하원, 효은, 민우, 명균, 지원, 정민, 채별 \n",
    "studentNum = 6\n",
    "status = '활동'\n",
    "studentRecordDf = pd.read_excel(\"/Users/hyennaeon/Downloads/하틴루_데이터수집_기록표_전원.xlsx\", sheet_name=studentNum)\n",
    "studentRecordDf = studentRecordDf.loc[studentRecordDf['상태'] == status]\n",
    "studentRecordDf = studentRecordDf.reset_index(drop=True)\n",
    "deviceNum = str(studentRecordDf['기기 번호'][0])\n",
    "startDate = '20230420'\n",
    "endDate = '20230530'\n",
    "studentDfArr = []\n",
    "indexNameArray = ['hr','hr_conv','br','br_conv','mot','r','speed','temperature','humidity','d2']\n",
    "nameArray = ['박하원','하효은','이민우','강명균','유지원','손정민','이채별']"
   ]
  },
  {
   "cell_type": "code",
   "execution_count": 12,
   "metadata": {},
   "outputs": [],
   "source": [
    "Url = 'http://52.231.67.67:3000/api/sensorData/duration?deviceNo='+deviceNum+'&startDate=' + startDate + '&endDate=' + endDate\n",
    "studentDf = pd.read_json(Url)\n",
    "studentDf = studentDf.sort_index(ascending=False)\n",
    "studentDf = studentDf.reset_index(drop=True)\n",
    "studentDf['regdate'] = pd.to_datetime(studentDf['regdate'])\n",
    "studentDf['regdate'] = studentDf['regdate'].dt.strftime(\"%Y-%m-%d %H:%M\")"
   ]
  },
  {
   "cell_type": "code",
   "execution_count": 13,
   "metadata": {},
   "outputs": [
    {
     "name": "stdout",
     "output_type": "stream",
     "text": [
      "6\n",
      "Unexpected exception formatting exception. Falling back to standard exception\n"
     ]
    },
    {
     "name": "stderr",
     "output_type": "stream",
     "text": [
      "Traceback (most recent call last):\n",
      "  File \"/Library/Frameworks/Python.framework/Versions/3.10/lib/python3.10/site-packages/dateutil/parser/_parser.py\", line 649, in parse\n",
      "    ret = self._build_naive(res, default)\n",
      "  File \"/Library/Frameworks/Python.framework/Versions/3.10/lib/python3.10/site-packages/dateutil/parser/_parser.py\", line 1235, in _build_naive\n",
      "    naive = default.replace(**repl)\n",
      "ValueError: hour must be in 0..23\n",
      "\n",
      "The above exception was the direct cause of the following exception:\n",
      "\n",
      "Traceback (most recent call last):\n",
      "  File \"pandas/_libs/tslib.pyx\", line 605, in pandas._libs.tslib.array_to_datetime\n",
      "  File \"pandas/_libs/tslibs/parsing.pyx\", line 318, in pandas._libs.tslibs.parsing.parse_datetime_string\n",
      "  File \"/Library/Frameworks/Python.framework/Versions/3.10/lib/python3.10/site-packages/dateutil/parser/_parser.py\", line 1368, in parse\n",
      "    return DEFAULTPARSER.parse(timestr, **kwargs)\n",
      "  File \"/Library/Frameworks/Python.framework/Versions/3.10/lib/python3.10/site-packages/dateutil/parser/_parser.py\", line 651, in parse\n",
      "    six.raise_from(ParserError(str(e) + \": %s\", timestr), e)\n",
      "  File \"<string>\", line 3, in raise_from\n",
      "dateutil.parser._parser.ParserError: hour must be in 0..23: 2023.5.8 24:00\n",
      "\n",
      "During handling of the above exception, another exception occurred:\n",
      "\n",
      "Traceback (most recent call last):\n",
      "  File \"pandas/_libs/tslib.pyx\", line 616, in pandas._libs.tslib.array_to_datetime\n",
      "TypeError: invalid string coercion to datetime for \"2023.5.8 24:00\" at position 0\n",
      "\n",
      "During handling of the above exception, another exception occurred:\n",
      "\n",
      "Traceback (most recent call last):\n",
      "  File \"/Library/Frameworks/Python.framework/Versions/3.10/lib/python3.10/site-packages/dateutil/parser/_parser.py\", line 649, in parse\n",
      "    ret = self._build_naive(res, default)\n",
      "  File \"/Library/Frameworks/Python.framework/Versions/3.10/lib/python3.10/site-packages/dateutil/parser/_parser.py\", line 1235, in _build_naive\n",
      "    naive = default.replace(**repl)\n",
      "ValueError: hour must be in 0..23\n",
      "\n",
      "The above exception was the direct cause of the following exception:\n",
      "\n",
      "Traceback (most recent call last):\n",
      "  File \"/Users/hyennaeon/Library/Python/3.10/lib/python/site-packages/IPython/core/interactiveshell.py\", line 3460, in run_code\n",
      "    exec(code_obj, self.user_global_ns, self.user_ns)\n",
      "  File \"/var/folders/3c/mjclf_6d0wlfk3rpvcxcvdz80000gn/T/ipykernel_3538/2820887204.py\", line 4, in <module>\n",
      "    endDate = str(pd.to_datetime(studentRecordDf['숙면 종료 날짜/시간'][i]))\n",
      "  File \"/Library/Frameworks/Python.framework/Versions/3.10/lib/python3.10/site-packages/pandas/core/tools/datetimes.py\", line 1102, in to_datetime\n",
      "    result = convert_listlike(np.array([arg]), format)[0]\n",
      "  File \"/Library/Frameworks/Python.framework/Versions/3.10/lib/python3.10/site-packages/pandas/core/tools/datetimes.py\", line 438, in _convert_listlike_datetimes\n",
      "    result, tz_parsed = objects_to_datetime64ns(\n",
      "  File \"/Library/Frameworks/Python.framework/Versions/3.10/lib/python3.10/site-packages/pandas/core/arrays/datetimes.py\", line 2177, in objects_to_datetime64ns\n",
      "    result, tz_parsed = tslib.array_to_datetime(\n",
      "  File \"pandas/_libs/tslib.pyx\", line 427, in pandas._libs.tslib.array_to_datetime\n",
      "  File \"pandas/_libs/tslib.pyx\", line 683, in pandas._libs.tslib.array_to_datetime\n",
      "  File \"pandas/_libs/tslib.pyx\", line 829, in pandas._libs.tslib._array_to_datetime_object\n",
      "  File \"pandas/_libs/tslib.pyx\", line 819, in pandas._libs.tslib._array_to_datetime_object\n",
      "  File \"pandas/_libs/tslibs/parsing.pyx\", line 318, in pandas._libs.tslibs.parsing.parse_datetime_string\n",
      "  File \"/Library/Frameworks/Python.framework/Versions/3.10/lib/python3.10/site-packages/dateutil/parser/_parser.py\", line 1368, in parse\n",
      "    return DEFAULTPARSER.parse(timestr, **kwargs)\n",
      "  File \"/Library/Frameworks/Python.framework/Versions/3.10/lib/python3.10/site-packages/dateutil/parser/_parser.py\", line 651, in parse\n",
      "    six.raise_from(ParserError(str(e) + \": %s\", timestr), e)\n",
      "  File \"<string>\", line 3, in raise_from\n",
      "dateutil.parser._parser.ParserError: hour must be in 0..23: 2023.5.8 24:00 present at position 0\n",
      "\n",
      "During handling of the above exception, another exception occurred:\n",
      "\n",
      "Traceback (most recent call last):\n",
      "  File \"/Users/hyennaeon/Library/Python/3.10/lib/python/site-packages/IPython/core/interactiveshell.py\", line 2057, in showtraceback\n",
      "    stb = self.InteractiveTB.structured_traceback(\n",
      "  File \"/Users/hyennaeon/Library/Python/3.10/lib/python/site-packages/IPython/core/ultratb.py\", line 1288, in structured_traceback\n",
      "    return FormattedTB.structured_traceback(\n",
      "  File \"/Users/hyennaeon/Library/Python/3.10/lib/python/site-packages/IPython/core/ultratb.py\", line 1177, in structured_traceback\n",
      "    return VerboseTB.structured_traceback(\n",
      "  File \"/Users/hyennaeon/Library/Python/3.10/lib/python/site-packages/IPython/core/ultratb.py\", line 1049, in structured_traceback\n",
      "    formatted_exceptions += self.format_exception_as_a_whole(etype, evalue, etb, lines_of_context,\n",
      "  File \"/Users/hyennaeon/Library/Python/3.10/lib/python/site-packages/IPython/core/ultratb.py\", line 935, in format_exception_as_a_whole\n",
      "    self.get_records(etb, number_of_lines_of_context, tb_offset) if etb else []\n",
      "  File \"/Users/hyennaeon/Library/Python/3.10/lib/python/site-packages/IPython/core/ultratb.py\", line 1003, in get_records\n",
      "    lines, first = inspect.getsourcelines(etb.tb_frame)\n",
      "  File \"/Library/Frameworks/Python.framework/Versions/3.10/lib/python3.10/inspect.py\", line 1129, in getsourcelines\n",
      "    lines, lnum = findsource(object)\n",
      "  File \"/Library/Frameworks/Python.framework/Versions/3.10/lib/python3.10/inspect.py\", line 958, in findsource\n",
      "    raise OSError('could not get source code')\n",
      "OSError: could not get source code\n"
     ]
    }
   ],
   "source": [
    "for i in range(0, len(studentRecordDf)):\n",
    "    startDate = str(pd.to_datetime(studentRecordDf['숙면 시작 날짜/시간'][i]))\n",
    "    endDate = str(pd.to_datetime(studentRecordDf['숙면 종료 날짜/시간'][i]))\n",
    "\n",
    "    mask = (studentDf['regdate'] > startDate) & (studentDf['regdate'] < endDate) \n",
    "    Df = studentDf[mask]\n",
    "    studentDfArr.append(Df)\n",
    "    Df.to_excel('/Users/hyennaeon/Desktop/Hatinroo/HatinrooData/2차 데이터 수집 '+status+' 데이터/'+nameArray[studentNum]+str(i)+'.xlsx')\n",
    "    "
   ]
  },
  {
   "cell_type": "code",
   "execution_count": 3,
   "metadata": {},
   "outputs": [
    {
     "ename": "NameError",
     "evalue": "name 'indexNameArray' is not defined",
     "output_type": "error",
     "traceback": [
      "\u001b[0;31m---------------------------------------------------------------------------\u001b[0m",
      "\u001b[0;31mNameError\u001b[0m                                 Traceback (most recent call last)",
      "Cell \u001b[0;32mIn[3], line 1\u001b[0m\n\u001b[0;32m----> 1\u001b[0m \u001b[39mfor\u001b[39;00m i \u001b[39min\u001b[39;00m indexNameArray:\n\u001b[1;32m      2\u001b[0m     col \u001b[39m=\u001b[39m i\n\u001b[1;32m      3\u001b[0m     plt\u001b[39m.\u001b[39mtitle(col)\n",
      "\u001b[0;31mNameError\u001b[0m: name 'indexNameArray' is not defined"
     ]
    }
   ],
   "source": [
    "for i in indexNameArray:\n",
    "    col = i\n",
    "    plt.title(col)\n",
    "    for j in range(0, len(studentDfArr)):\n",
    "        Df = pd.DataFrame(studentDfArr[j])\n",
    "        Df = Df.reset_index(drop=True)\n",
    "        plt.plot(Df[col],label=j)\n",
    "\n",
    "    # plt.legend()\n",
    "    # plt.show()"
   ]
  },
  {
   "cell_type": "code",
   "execution_count": 8,
   "metadata": {},
   "outputs": [],
   "source": [
    "#팀원 전체 데이터 저장 \n",
    "for j in range(7):\n",
    "    studentNum = j\n",
    "    status = '부재'\n",
    "    studentRecordDf = pd.read_excel(\"/Users/hyennaeon/Downloads/하틴루_데이터수집_기록표_전원.xlsx\", sheet_name=studentNum)\n",
    "    studentRecordDf = studentRecordDf.loc[studentRecordDf['상태'] == status]\n",
    "    studentRecordDf = studentRecordDf.reset_index(drop=True)\n",
    "    deviceNum = str(studentRecordDf['기기 번호'][0])\n",
    "    startDate = '20230420'\n",
    "    endDate = '20230630'\n",
    "    studentDfArr = []\n",
    "    indexNameArray = ['hr','hr_conv','br','br_conv','mot','r','speed','temperature','humidity','d2']\n",
    "    nameArray = ['박하원','하효은','이민우','강명균','유지원','손정민','이채별']\n",
    "    Url = 'http://52.231.67.67:3000/api/sensorData/duration?deviceNo='+deviceNum+'&startDate=' + startDate + '&endDate=' + endDate\n",
    "    studentDf = pd.read_json(Url)\n",
    "    studentDf = studentDf.sort_index(ascending=False)\n",
    "    studentDf = studentDf.reset_index(drop=True)\n",
    "    studentDf['regdate'] = pd.to_datetime(studentDf['regdate'])\n",
    "    studentDf['regdate'] = studentDf['regdate'].dt.strftime(\"%Y-%m-%d %H:%M\")\n",
    "    for i in range(0, len(studentRecordDf)):\n",
    "        startDate = str(pd.to_datetime(studentRecordDf['숙면 시작 날짜/시간'][i]))\n",
    "        endDate = str(pd.to_datetime(studentRecordDf['숙면 종료 날짜/시간'][i]))\n",
    "\n",
    "        mask = (studentDf['regdate'] >= startDate) & (studentDf['regdate'] <= endDate) \n",
    "        Df = studentDf[mask]\n",
    "        studentDfArr.append(Df)\n",
    "        Df.to_excel('/Users/hyennaeon/Desktop/Hatinroo/HatinrooData/2차 데이터 수집 '+str(status)+' 데이터/'+nameArray[studentNum]+str(i)+'.xlsx')"
   ]
  },
  {
   "cell_type": "code",
   "execution_count": 5,
   "metadata": {},
   "outputs": [
    {
     "name": "stdout",
     "output_type": "stream",
     "text": [
      "0\n",
      "1\n",
      "0\n",
      "0\n",
      "0\n",
      "0\n",
      "0\n",
      "0\n",
      "0\n",
      "1\n"
     ]
    },
    {
     "name": "stderr",
     "output_type": "stream",
     "text": [
      "/var/folders/3c/mjclf_6d0wlfk3rpvcxcvdz80000gn/T/ipykernel_15994/2307335277.py:5: FutureWarning: Inferring datetime64[ns] from data containing strings is deprecated and will be removed in a future version. To retain the old behavior explicitly pass Series(data, dtype=datetime64[ns])\n",
      "  studentRecordDf = pd.read_excel(\"/Users/hyennaeon/Downloads/하틴루_데이터수집_기록표_전원2.xlsx\", sheet_name=studentNum)\n"
     ]
    },
    {
     "name": "stdout",
     "output_type": "stream",
     "text": [
      "0\n",
      "0\n",
      "0\n",
      "0\n",
      "0\n",
      "4\n"
     ]
    }
   ],
   "source": [
    "#part2 팀원 전체 데이터 저장 \n",
    "for j in range(0,7):\n",
    "    studentNum = j\n",
    "    status = '부재'\n",
    "    studentRecordDf = pd.read_excel(\"/Users/hyennaeon/Downloads/하틴루_데이터수집_기록표_전원2.xlsx\", sheet_name=studentNum)\n",
    "    studentRecordDf = studentRecordDf.loc[studentRecordDf['상태'] == status]\n",
    "    studentRecordDf = studentRecordDf.reset_index(drop=True)\n",
    "    deviceNum = str(studentRecordDf['기기 번호'][0])\n",
    "    startDate = '20230420'\n",
    "    endDate = '20230630'\n",
    "    studentDfArr = []\n",
    "    indexNameArray = ['hr','hr_conv','br','br_conv','mot','r','speed','temperature','humidity','d2']\n",
    "    nameArray = ['박하원','하효은','이민우','강명균','유지원','손정민','이채별']\n",
    "    Url = 'http://52.231.67.67:3000/api/sensorData/duration?deviceNo='+deviceNum+'&startDate=' + startDate + '&endDate=' + endDate\n",
    "    studentDf = pd.read_json(Url)\n",
    "    studentDf = studentDf.sort_index(ascending=False)\n",
    "    studentDf = studentDf.reset_index(drop=True)\n",
    "    studentDf['regdate'] = pd.to_datetime(studentDf['regdate'])\n",
    "    studentDf['regdate'] = studentDf['regdate'].dt.strftime(\"%Y-%m-%d %H:%M\")\n",
    "    for i in range(0, len(studentRecordDf)):\n",
    "        startDate = str(pd.to_datetime(studentRecordDf['숙면 시작 날짜/시간'][i]))\n",
    "        endDate = str(pd.to_datetime(studentRecordDf['숙면 종료 날짜/시간'][i]))\n",
    "\n",
    "        mask = (studentDf['regdate'] >= startDate) & (studentDf['regdate'] <= endDate) \n",
    "        Df = studentDf[mask]\n",
    "        studentDfArr.append(Df)\n",
    "        Df.to_excel('/Users/hyennaeon/Desktop/Hatinroo/HatinrooData/'+str(status)+' 데이터 part2/'+nameArray[studentNum]+str(i)+'.xlsx')\n",
    "        print(len(Df[Df['hr'] != 0]))"
   ]
  },
  {
   "cell_type": "code",
   "execution_count": null,
   "metadata": {},
   "outputs": [],
   "source": []
  }
 ],
 "metadata": {
  "kernelspec": {
   "display_name": "Python 3",
   "language": "python",
   "name": "python3"
  },
  "language_info": {
   "codemirror_mode": {
    "name": "ipython",
    "version": 3
   },
   "file_extension": ".py",
   "mimetype": "text/x-python",
   "name": "python",
   "nbconvert_exporter": "python",
   "pygments_lexer": "ipython3",
   "version": "3.10.1"
  },
  "orig_nbformat": 4
 },
 "nbformat": 4,
 "nbformat_minor": 2
}
